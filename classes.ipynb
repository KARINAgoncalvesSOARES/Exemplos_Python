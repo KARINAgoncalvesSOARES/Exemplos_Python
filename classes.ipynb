{
 "cells": [
  {
   "cell_type": "markdown",
   "metadata": {},
   "source": [
    "<h1 align='center'> Entendendo Classes, Métodos e Polimosrfismo em POO</h1>"
   ]
  },
  {
   "cell_type": "markdown",
   "metadata": {},
   "source": [
    "Data Scientist Jr.: Karina Gonçalves Soares"
   ]
  },
  {
   "cell_type": "markdown",
   "metadata": {},
   "source": [
    "Links de estudo:\n",
    "\n",
    "* [instâncias da classe, métodos e Atributos em Python](https://www.datascienceacademy.com.br/path-player?courseid=fundamentos-de-linguagem-python-para-analise-de-dados-e-data-science&unit=63eeee8b179b424fa108b155Unit)\n",
    "\n",
    "* [Trabalhando com métodos de classes 1/2](https://www.datascienceacademy.com.br/path-player?courseid=fundamentos-de-linguagem-python-para-analise-de-dados-e-data-science&unit=63eef044c8b0f11867087e95Unit)\n",
    "\n",
    "* [Trabalhando com herança de classes](https://www.datascienceacademy.com.br/path-player?courseid=fundamentos-de-linguagem-python-para-analise-de-dados-e-data-science&unit=63f10ca5f2d826811e022b0bUnit)"
   ]
  },
  {
   "cell_type": "markdown",
   "metadata": {},
   "source": [
    "### Classes\n",
    "\n",
    "A POO é um paradigma de programação que organiza o código em torno de \"objetos\", que podem conter dados (atributos) e comportamentos (métodos) relacionados. Uma classe é essencialmente um modelo para criar objetos.\n",
    "\n",
    "`Quando você define uma classe, está criando um novo tipo de objeto, com suas próprias características e funcionalidades`. Por exemplo, se você estiver criando um programa para gerenciar livros, pode criar uma classe chamada \"Livros\" para representar os livros em seu programa.\n",
    "\n",
    "Aqui está a sintaxe básica para definir uma classe em Python:"
   ]
  },
  {
   "cell_type": "code",
   "execution_count": 1,
   "metadata": {},
   "outputs": [],
   "source": [
    "class Livro:\n",
    "    \n",
    "    # Esse método vai inicializar cada objeto criado a partir desta classe\n",
    "    # O nome deste método é __init__\n",
    "    # (self) é uma referência a cada atributo da própria classe (e não de uma classe mãe por exemplo)\n",
    "    def __init__(self):\n",
    "        \n",
    "        # Atributos são propriedades\n",
    "        self.titulo = 'Era uma vez.'\n",
    "        self.isbn = 9988888\n",
    "        print('Construtor chamado para criar um objeto desta classe.')\n",
    "    \n",
    "    # Métodos são funções que executam ações nos objetos da classe\n",
    "    def imprime(self):\n",
    "        print('Foi criado o livro %s com ISBN %d' % (self.titulo, self.isbn))"
   ]
  },
  {
   "cell_type": "code",
   "execution_count": 2,
   "metadata": {},
   "outputs": [
    {
     "name": "stdout",
     "output_type": "stream",
     "text": [
      "Construtor chamado para criar um objeto desta classe.\n"
     ]
    }
   ],
   "source": [
    "# Criando instância da classe Livro\n",
    "Livro1 = Livro()"
   ]
  },
  {
   "cell_type": "code",
   "execution_count": 3,
   "metadata": {},
   "outputs": [
    {
     "data": {
      "text/plain": [
       "__main__.Livro"
      ]
     },
     "execution_count": 3,
     "metadata": {},
     "output_type": "execute_result"
    }
   ],
   "source": [
    "# O objeto Livro1 é do tipo Livro\n",
    "type(Livro1)"
   ]
  },
  {
   "cell_type": "code",
   "execution_count": 4,
   "metadata": {},
   "outputs": [
    {
     "data": {
      "text/plain": [
       "'Era uma vez.'"
      ]
     },
     "execution_count": 4,
     "metadata": {},
     "output_type": "execute_result"
    }
   ],
   "source": [
    "# Atributo do objeto Livro1\n",
    "Livro1.titulo"
   ]
  },
  {
   "cell_type": "code",
   "execution_count": 5,
   "metadata": {},
   "outputs": [
    {
     "name": "stdout",
     "output_type": "stream",
     "text": [
      "Foi criado o livro Era uma vez. com ISBN 9988888\n"
     ]
    }
   ],
   "source": [
    "Livro1.imprime()"
   ]
  },
  {
   "cell_type": "code",
   "execution_count": 6,
   "metadata": {},
   "outputs": [],
   "source": [
    "# Criando a classe Livro com parâmetros no método construtor\n",
    "\n",
    "class Livro:\n",
    "    \n",
    "    def __init__(self, titulo, isbn):\n",
    "        \n",
    "    \n",
    "        self.titulo = titulo\n",
    "        self.isbn = isbn\n",
    "        print('Construtor chamado para criar um objeto desta classe.')\n",
    "    \n",
    "    def imprime(self, titulo, isbn):\n",
    "        print('Foi criado o livro %s com ISBN %d' % (self.titulo, self.isbn))"
   ]
  },
  {
   "cell_type": "code",
   "execution_count": 7,
   "metadata": {},
   "outputs": [
    {
     "name": "stdout",
     "output_type": "stream",
     "text": [
      "Construtor chamado para criar um objeto desta classe.\n"
     ]
    }
   ],
   "source": [
    "# Criando objeto Livro2 que é a instância da classe Livro\n",
    "Livro2 = Livro(\"Cinderela\", 77886611) "
   ]
  },
  {
   "cell_type": "code",
   "execution_count": 8,
   "metadata": {},
   "outputs": [
    {
     "data": {
      "text/plain": [
       "'Cinderela'"
      ]
     },
     "execution_count": 8,
     "metadata": {},
     "output_type": "execute_result"
    }
   ],
   "source": [
    "Livro2.titulo"
   ]
  },
  {
   "cell_type": "code",
   "execution_count": 9,
   "metadata": {},
   "outputs": [
    {
     "name": "stdout",
     "output_type": "stream",
     "text": [
      "Foi criado o livro Cinderela com ISBN 77886611\n"
     ]
    }
   ],
   "source": [
    "Livro2.imprime('Cinderela', 77886611)"
   ]
  },
  {
   "cell_type": "code",
   "execution_count": 10,
   "metadata": {},
   "outputs": [],
   "source": [
    "# Criando a classe\n",
    "\n",
    "class Algoritmo:\n",
    "    \n",
    "    def __init__(self, tipo_algo):\n",
    "        self.tipo = tipo_algo\n",
    "        print('Construtor chamado para criar um objeto desta classe.')"
   ]
  },
  {
   "cell_type": "code",
   "execution_count": 11,
   "metadata": {},
   "outputs": [
    {
     "name": "stdout",
     "output_type": "stream",
     "text": [
      "Construtor chamado para criar um objeto desta classe.\n"
     ]
    }
   ],
   "source": [
    "# Criando objeto a partir da classe\n",
    "algo1 = Algoritmo(tipo_algo='Random Forest')"
   ]
  },
  {
   "cell_type": "code",
   "execution_count": 12,
   "metadata": {},
   "outputs": [
    {
     "name": "stdout",
     "output_type": "stream",
     "text": [
      "Construtor chamado para criar um objeto desta classe.\n"
     ]
    }
   ],
   "source": [
    "# Criando objeto a partir da classe\n",
    "algo2 = Algoritmo(tipo_algo='Deep Learning')"
   ]
  },
  {
   "cell_type": "code",
   "execution_count": 13,
   "metadata": {},
   "outputs": [
    {
     "data": {
      "text/plain": [
       "'Random Forest'"
      ]
     },
     "execution_count": 13,
     "metadata": {},
     "output_type": "execute_result"
    }
   ],
   "source": [
    "# Atributo da classe\n",
    "algo1.tipo"
   ]
  },
  {
   "cell_type": "code",
   "execution_count": 14,
   "metadata": {},
   "outputs": [
    {
     "data": {
      "text/plain": [
       "'Deep Learning'"
      ]
     },
     "execution_count": 14,
     "metadata": {},
     "output_type": "execute_result"
    }
   ],
   "source": [
    "# Atributo da classe\n",
    "algo2.tipo"
   ]
  },
  {
   "cell_type": "code",
   "execution_count": 15,
   "metadata": {},
   "outputs": [],
   "source": [
    "# Criando uma classe \n",
    "class Estudantes:\n",
    "    \n",
    "    def __init__(self, nome, idade, nota):\n",
    "        self.nome = nome\n",
    "        self.idade = idade\n",
    "        self.nota = nota"
   ]
  },
  {
   "cell_type": "code",
   "execution_count": 16,
   "metadata": {},
   "outputs": [],
   "source": [
    "estudante1 = Estudantes('Bob',12, 9.5)"
   ]
  },
  {
   "cell_type": "code",
   "execution_count": 17,
   "metadata": {},
   "outputs": [
    {
     "data": {
      "text/plain": [
       "'Bob'"
      ]
     },
     "execution_count": 17,
     "metadata": {},
     "output_type": "execute_result"
    }
   ],
   "source": [
    "estudante1.nome"
   ]
  },
  {
   "cell_type": "code",
   "execution_count": 18,
   "metadata": {},
   "outputs": [
    {
     "data": {
      "text/plain": [
       "12"
      ]
     },
     "execution_count": 18,
     "metadata": {},
     "output_type": "execute_result"
    }
   ],
   "source": [
    "estudante1.idade"
   ]
  },
  {
   "cell_type": "code",
   "execution_count": 19,
   "metadata": {},
   "outputs": [
    {
     "data": {
      "text/plain": [
       "9.5"
      ]
     },
     "execution_count": 19,
     "metadata": {},
     "output_type": "execute_result"
    }
   ],
   "source": [
    "estudante1.nota"
   ]
  },
  {
   "cell_type": "markdown",
   "metadata": {},
   "source": [
    "### Métodos\n",
    "\n",
    "Em classes, `os métodos são funções que definem o comportamento dos objetos criados a partir dessa classe. Eles representam as ações que os objetos podem executar ou os cálculos que podem ser realizados com os dados armazenados nos atributos da classe`.\n",
    "\n",
    "Os métodos são definidos dentro da classe, e cada método tem acesso ao objeto atual (representado pelo parâmetro especial \"self\") e aos atributos da classe. Isso permite que os métodos manipulem os dados e o estado do objeto.\n",
    "\n"
   ]
  },
  {
   "cell_type": "code",
   "execution_count": 20,
   "metadata": {},
   "outputs": [],
   "source": [
    "# Criando uma classe chamada Circulo\n",
    "\n",
    "class Circulo:\n",
    "\n",
    "    # O valor de pi é contante\n",
    "    pi = 3.14\n",
    "\n",
    "    # Quando um objeto desta classe for criado, este método será executado e o valor default do raio será 5.\n",
    "    def __init__(self, raio=5):\n",
    "        self.raio = raio\n",
    "\n",
    "    # Esse método calcula á área\n",
    "    def area(self):\n",
    "        return (self.raio * self.raio) * Circulo.pi\n",
    "    \n",
    "    # Método para gerar um novo raio\n",
    "    def raio(self, novo_raio):\n",
    "        self.raio = novo_raio\n",
    "\n",
    "    # Método para obter o raio do circulo\n",
    "    def getRaio(self):\n",
    "        return  self.raio\n",
    "       "
   ]
  },
  {
   "cell_type": "code",
   "execution_count": 21,
   "metadata": {},
   "outputs": [],
   "source": [
    "# Criando objeto circulo, uma instância da classe circulo()\n",
    "\n",
    "circ = Circulo()"
   ]
  },
  {
   "cell_type": "code",
   "execution_count": 22,
   "metadata": {},
   "outputs": [
    {
     "data": {
      "text/plain": [
       "5"
      ]
     },
     "execution_count": 22,
     "metadata": {},
     "output_type": "execute_result"
    }
   ],
   "source": [
    "# Executando método da classe Circulo\n",
    "circ.getRaio()"
   ]
  },
  {
   "cell_type": "code",
   "execution_count": 23,
   "metadata": {},
   "outputs": [],
   "source": [
    "# Criando outro objeto chamado circ1. Uma instância da classe Circulo()\n",
    "# Agora sobrescrevendo o valor do atributo\n",
    "circ1 = Circulo(7)"
   ]
  },
  {
   "cell_type": "code",
   "execution_count": 24,
   "metadata": {},
   "outputs": [
    {
     "data": {
      "text/plain": [
       "7"
      ]
     },
     "execution_count": 24,
     "metadata": {},
     "output_type": "execute_result"
    }
   ],
   "source": [
    "circ1.getRaio()"
   ]
  },
  {
   "cell_type": "code",
   "execution_count": 25,
   "metadata": {},
   "outputs": [
    {
     "name": "stdout",
     "output_type": "stream",
     "text": [
      "A área é igual a:  78.5\n"
     ]
    }
   ],
   "source": [
    "# Imprimindo a área\n",
    "print('A área é igual a: ', circ.area())"
   ]
  },
  {
   "cell_type": "code",
   "execution_count": 29,
   "metadata": {},
   "outputs": [],
   "source": [
    "# gerando um novo valor para o raio\n",
    "circ = Circulo(3)"
   ]
  },
  {
   "cell_type": "code",
   "execution_count": 30,
   "metadata": {},
   "outputs": [
    {
     "data": {
      "text/plain": [
       "3"
      ]
     },
     "execution_count": 30,
     "metadata": {},
     "output_type": "execute_result"
    }
   ],
   "source": [
    "circ.getRaio()"
   ]
  },
  {
   "cell_type": "code",
   "execution_count": 31,
   "metadata": {},
   "outputs": [
    {
     "name": "stdout",
     "output_type": "stream",
     "text": [
      "Novo raio é igual a:  28.26\n"
     ]
    }
   ],
   "source": [
    "# Imprimindo novo raio\n",
    "print('Novo raio é igual a: ', circ.area())"
   ]
  },
  {
   "cell_type": "markdown",
   "metadata": {},
   "source": [
    "### Herança\n",
    "\n",
    "A herança é um conceito importante da programação orientada a objetos (POO) que `permite criar uma nova classe baseada em uma classe já existente`. A nova classe (chamada de classe derivada ou subclasse) herda os atributos e métodos da classe original (chamada de classe base ou superclasse) e pode adicionar novos atributos e métodos, ou modificar os existentes.\n",
    "\n",
    "A herança permite reutilizar código e promove a criação de uma hierarquia de classes, onde classes mais específicas herdam características de classes mais gerais. Isso ajuda a organizar e estruturar o código de forma eficiente, evitando a duplicação de código e facilitando a manutenção."
   ]
  },
  {
   "cell_type": "code",
   "execution_count": 32,
   "metadata": {},
   "outputs": [],
   "source": [
    "class Animal:\n",
    "    def __init__(self):\n",
    "        print('Animal criado!')\n",
    "\n",
    "    def imprimir(self):\n",
    "        print(\"Esse é um animal.\")\n",
    "\n",
    "    def comer(self):\n",
    "        print(\"hora de comer\")\n",
    "\n",
    "    def fazer_som(self):\n",
    "        pass"
   ]
  },
  {
   "cell_type": "code",
   "execution_count": 33,
   "metadata": {},
   "outputs": [],
   "source": [
    "# Criando a classe Cachorro - Sub-classe\n",
    "\n",
    "class Cachorro(Animal):\n",
    "\n",
    "    def __init__(self):\n",
    "        Animal.__init__(self) # Executando construtor da Super-classe\n",
    "        print(\"Objeto cachorro criado.\")\n",
    "\n",
    "    def fazer_som(self):\n",
    "        print(\"Au au!\")"
   ]
  },
  {
   "cell_type": "code",
   "execution_count": 34,
   "metadata": {},
   "outputs": [],
   "source": [
    "# Criando a classe Gato - Sub-classe\n",
    "\n",
    "class Gato(Animal):\n",
    "\n",
    "    def __init__(self):\n",
    "        Animal.__init__(self)\n",
    "        print(\"Objeto Gato criado.\")\n",
    "\n",
    "    def fazer_som(self):\n",
    "        print(\"Miau!\")"
   ]
  },
  {
   "cell_type": "code",
   "execution_count": 36,
   "metadata": {},
   "outputs": [
    {
     "name": "stdout",
     "output_type": "stream",
     "text": [
      "Animal criado!\n",
      "Objeto cachorro criado.\n"
     ]
    }
   ],
   "source": [
    "# Criando um objeto (Instanciando a classe)\n",
    "rex = Cachorro()"
   ]
  },
  {
   "cell_type": "code",
   "execution_count": 37,
   "metadata": {},
   "outputs": [
    {
     "name": "stdout",
     "output_type": "stream",
     "text": [
      "Animal criado!\n",
      "Objeto Gato criado.\n"
     ]
    }
   ],
   "source": [
    "# Criando um objeto (Instanciando a classe)\n",
    "mel = Gato()"
   ]
  },
  {
   "cell_type": "code",
   "execution_count": 38,
   "metadata": {},
   "outputs": [
    {
     "name": "stdout",
     "output_type": "stream",
     "text": [
      "Au au!\n"
     ]
    }
   ],
   "source": [
    "# Executando método da classe Cachorro()\n",
    "rex.fazer_som()"
   ]
  },
  {
   "cell_type": "code",
   "execution_count": 39,
   "metadata": {},
   "outputs": [
    {
     "name": "stdout",
     "output_type": "stream",
     "text": [
      "Miau!\n"
     ]
    }
   ],
   "source": [
    "# Executando método da classe Gato()\n",
    "mel.fazer_som()"
   ]
  },
  {
   "cell_type": "code",
   "execution_count": 40,
   "metadata": {},
   "outputs": [
    {
     "name": "stdout",
     "output_type": "stream",
     "text": [
      "Esse é um animal.\n"
     ]
    }
   ],
   "source": [
    "# Executando método da classe Animal() (Super-classe)\n",
    "rex.imprimir()"
   ]
  },
  {
   "cell_type": "code",
   "execution_count": 42,
   "metadata": {},
   "outputs": [
    {
     "name": "stdout",
     "output_type": "stream",
     "text": [
      "hora de comer\n"
     ]
    }
   ],
   "source": [
    "# Executando método da classe Animal() (Super-classe)\n",
    "rex.comer()"
   ]
  },
  {
   "cell_type": "markdown",
   "metadata": {},
   "source": [
    "### Polimorfismo\n",
    "\n",
    "Polimorfismo é outro conceito importante da programação orientada a objetos que `permite que objetos de diferentes classes sejam tratados de forma uniforme``, ou seja, é a capacidade de um objeto ser referenciado de várias maneiras. Isso significa que você pode usar um objeto de uma classe derivada da mesma forma que usa um objeto da classe base, desde que eles compartilhem uma interface comum.\n",
    "\n",
    "Em Python, o polimorfismo é naturalmente suportado devido à sua natureza dinamicamente tipada e ao uso de herança. "
   ]
  },
  {
   "cell_type": "code",
   "execution_count": 50,
   "metadata": {},
   "outputs": [],
   "source": [
    "# Superclasse\n",
    "class Veiculo:\n",
    "    def __init__(self, marca, modelo):\n",
    "        self.marca = marca\n",
    "        self.modelo = modelo\n",
    "\n",
    "    def acelerar(self):\n",
    "        pass\n",
    "\n",
    "\n",
    "    def frear(self):\n",
    "        pass"
   ]
  },
  {
   "cell_type": "code",
   "execution_count": 51,
   "metadata": {},
   "outputs": [],
   "source": [
    "# Subclasse\n",
    "class Carro(Veiculo):\n",
    "    \n",
    "    def acelerar(self):\n",
    "        print(\"O carro está acelerando!\")\n",
    "\n",
    "\n",
    "    def frear(self):\n",
    "        print(\"O carro está freando!\")"
   ]
  },
  {
   "cell_type": "code",
   "execution_count": 52,
   "metadata": {},
   "outputs": [],
   "source": [
    "# Subclasse\n",
    "class Moto(Veiculo):\n",
    "    \n",
    "    def acelerar(self):\n",
    "        print(\"A moto está acelerando!\")\n",
    "\n",
    "\n",
    "    def frear(self):\n",
    "        print(\"A moto está freando!\")"
   ]
  },
  {
   "cell_type": "code",
   "execution_count": 53,
   "metadata": {},
   "outputs": [],
   "source": [
    "# Subclasse\n",
    "class Avião(Veiculo):\n",
    "    \n",
    "    def acelerar(self):\n",
    "        print(\"O avião está acelerando!\")\n",
    "\n",
    "\n",
    "    def frear(self):\n",
    "        print(\"O avião está freando!\")\n",
    "\n",
    "    def decolar(self):\n",
    "        print(\"O avião está decolando!\")\n",
    "\n",
    "    "
   ]
  },
  {
   "cell_type": "code",
   "execution_count": 54,
   "metadata": {},
   "outputs": [],
   "source": [
    "# Criando Objetos\n",
    "lista_veiculo = [Carro('Porsche', '911 Turbo'), Moto('Honda', \"CB 1000r Black Edition\"), Avião('Boeing','757')]"
   ]
  },
  {
   "cell_type": "code",
   "execution_count": 55,
   "metadata": {},
   "outputs": [
    {
     "name": "stdout",
     "output_type": "stream",
     "text": [
      "O carro está acelerando!\n",
      "O carro está freando!\n",
      "---\n",
      "A moto está acelerando!\n",
      "A moto está freando!\n",
      "---\n",
      "O avião está acelerando!\n",
      "O avião está freando!\n",
      "O avião está decolando!\n",
      "---\n"
     ]
    }
   ],
   "source": [
    "# Loop\n",
    "# Polimorfismo\n",
    "for item in lista_veiculo:\n",
    "\n",
    "    # O método acelerar tem comportamento diferente dependendo do tipo de objeto\n",
    "    item.acelerar()\n",
    "\n",
    "    # O método frear tem comportamento diferente dependendo do tipo de objeto\n",
    "    item.frear()\n",
    "\n",
    "    # Executar o método decolar somente se o objeto for instância da classe avião\n",
    "    if isinstance(item, Avião):\n",
    "        item.decolar()\n",
    "    print(\"---\")"
   ]
  },
  {
   "cell_type": "markdown",
   "metadata": {},
   "source": [
    "O polimorfismo nos permite tratar objetos de classes diferentes de maneira uniforme, desde que eles compartilhem uma interface comum, como no caso do método \"acelerar()\" e \"frear()\" presente em todas as classes do exemplo.\n",
    "\n",
    "Esse conceito é extremamente útil em situações onde você quer escrever funções ou métodos genéricos que operem sobre objetos de diferentes tipos, sem precisar saber exatamente qual é o tipo concreto de cada objeto. Isso torna o código mais flexível, extensível e de fácil manutenção, já que você pode adicionar novas classes derivadas sem alterar o código existente que trabalha com a classe base."
   ]
  }
 ],
 "metadata": {
  "kernelspec": {
   "display_name": "venv_classes",
   "language": "python",
   "name": "python3"
  },
  "language_info": {
   "codemirror_mode": {
    "name": "ipython",
    "version": 3
   },
   "file_extension": ".py",
   "mimetype": "text/x-python",
   "name": "python",
   "nbconvert_exporter": "python",
   "pygments_lexer": "ipython3",
   "version": "3.10.6"
  },
  "orig_nbformat": 4
 },
 "nbformat": 4,
 "nbformat_minor": 2
}
