{
 "cells": [
  {
   "attachments": {},
   "cell_type": "markdown",
   "metadata": {},
   "source": [
    "<h1 align='center'> Tratamento de Erros e Exceções</h1>"
   ]
  },
  {
   "attachments": {},
   "cell_type": "markdown",
   "metadata": {},
   "source": [
    "Data scientist jr.: Karina Gonçalves Soares"
   ]
  },
  {
   "attachments": {},
   "cell_type": "markdown",
   "metadata": {},
   "source": [
    "Link de estudo:\n",
    "\n",
    "* [Erros e Exceções 1/2](https://www.datascienceacademy.com.br/path-player?courseid=fundamentos-de-linguagem-python-para-analise-de-dados-e-data-science&unit=63e09207aa56f5033006b4ecUnit)\n",
    "\n",
    "* [Erros e exceções 2/2](https://www.datascienceacademy.com.br/path-player?courseid=fundamentos-de-linguagem-python-para-analise-de-dados-e-data-science&unit=63e18e808306fdaab60dda85Unit)"
   ]
  },
  {
   "attachments": {},
   "cell_type": "markdown",
   "metadata": {},
   "source": [
    "### Try e Except"
   ]
  },
  {
   "attachments": {},
   "cell_type": "markdown",
   "metadata": {},
   "source": [
    "Em Python, erros e exceções são situações indesejadas que podem ocorrer durante a execução de um programa. Esses erros podem ser causados por diversos motivos, como erros de sintaxe, problemas de lógica, manipulação incorreta de dados, entre outros.\n",
    "\n",
    "Quando um erro ocorre durante a execução de um programa, o Python interrompe a execução e exibe uma mensagem de erro que descreve o problema encontrado. Essas mensagens de erro são chamadas de \"tracebacks\" e fornecem informações úteis sobre o local onde o erro ocorreu e a causa do problema.\n",
    "\n",
    "Existem diferentes tipos de erros em Python. Alguns exemplos comuns são:\n",
    "\n",
    "Erros de sintaxe (SyntaxErrors): ocorrem quando o código viola as regras de sintaxe da linguagem. Esses erros são detectados durante a etapa de análise do código e impedem que o programa seja executado.\n",
    "\n",
    "Exceções (Exceptions): são erros que ocorrem durante a execução do programa e interrompem seu fluxo normal. As exceções podem ser tratadas pelo programa para lidar com erros e evitar a interrupção abrupta da execução. Caso uma exceção não seja tratada, ela resultará em um encerramento do programa e exibirá uma mensagem de erro.\n",
    "\n",
    "Em Python, é possível lidar com exceções usando blocos try-except. Um bloco try é usado para envolver o código que pode gerar uma exceção, enquanto o bloco except é usado para capturar e tratar a exceção. O bloco except especifica o tipo de exceção que está sendo tratada e o código a ser executado quando essa exceção ocorre.\n",
    "\n",
    "Aqui está um exemplo simples de como usar o bloco try-except:"
   ]
  },
  {
   "cell_type": "code",
   "execution_count": 12,
   "metadata": {},
   "outputs": [
    {
     "name": "stdout",
     "output_type": "stream",
     "text": [
      "Erro: divisão por zero.\n"
     ]
    }
   ],
   "source": [
    "try:\n",
    "    # Código que pode gerar uma exceção\n",
    "    x = 10 / 0  # Tentativa de divisão por zero\n",
    "except ZeroDivisionError:\n",
    "    # Tratamento da exceção\n",
    "    print(\"Erro: divisão por zero.\")\n"
   ]
  },
  {
   "attachments": {},
   "cell_type": "markdown",
   "metadata": {},
   "source": [
    "No exemplo acima, o bloco try contém a divisão de 10 por 0, o que causa uma exceção do tipo ZeroDivisionError. No bloco except, capturamos essa exceção específica e exibimos uma mensagem de erro adequada.\n",
    "\n",
    "Além do bloco except, também é possível usar os blocos else e finally no tratamento de exceções. O bloco else é executado quando nenhuma exceção é lançada no bloco try, e o bloco finally é executado sempre, independentemente de ocorrer uma exceção ou não. Isso pode ser útil para realizar ações de limpeza ou fechar recursos abertos, por exemplo."
   ]
  },
  {
   "cell_type": "code",
   "execution_count": 14,
   "metadata": {},
   "outputs": [
    {
     "name": "stdout",
     "output_type": "stream",
     "text": [
      "Erro: você deve digitar um número inteiro.\n"
     ]
    }
   ],
   "source": [
    "try:\n",
    "    # Código que pode gerar uma exceção\n",
    "    num1 = int(input(\"Digite um número: \"))\n",
    "    num2 = int(input(\"Digite outro número: \"))\n",
    "    \n",
    "    resultado = num1 / num2\n",
    "    \n",
    "    print(\"O resultado da divisão é:\", resultado)\n",
    "    \n",
    "except ValueError:\n",
    "    print(\"Erro: você deve digitar um número inteiro.\")\n",
    "except ZeroDivisionError:\n",
    "    print(\"Erro: divisão por zero.\")\n",
    "except Exception as e:\n",
    "    print(\"Ocorreu um erro:\", e)\n"
   ]
  },
  {
   "attachments": {},
   "cell_type": "markdown",
   "metadata": {},
   "source": [
    "Nesse exemplo, o programa solicita ao usuário que digite dois números. Em seguida, tenta realizar uma divisão dos números e exibir o resultado. No entanto, podem ocorrer diferentes tipos de exceções.\n",
    "\n",
    "Se o usuário digitar um valor que não é um número inteiro, será lançada uma exceção do tipo ValueError. O bloco except ValueError captura essa exceção e exibe uma mensagem de erro adequada.\n",
    "\n",
    "Se o usuário digitar zero como segundo número, ocorrerá uma divisão por zero, gerando uma exceção do tipo ZeroDivisionError. O bloco except ZeroDivisionError captura essa exceção e exibe uma mensagem de erro correspondente.\n",
    "\n",
    "Além dessas exceções específicas, também é possível usar um bloco except genérico, como o último bloco except Exception. Ele captura qualquer outra exceção que não tenha sido tratada pelos blocos anteriores. Nesse caso, a exceção é atribuída à variável \"e\" e uma mensagem de erro genérica é exibida.\n",
    "\n",
    "É importante ressaltar que a ordem dos blocos except é relevante. O Python verifica os blocos except de cima para baixo e executa o código do primeiro bloco que corresponder ao tipo de exceção lançada.\n",
    "\n",
    "Esse exemplo demonstra como usar múltiplos blocos except para tratar diferentes tipos de exceções e como lidar com exceções genéricas. Assim, você pode capturar e tratar de forma adequada os erros que podem ocorrer durante a execução do seu programa."
   ]
  },
  {
   "cell_type": "code",
   "execution_count": 15,
   "metadata": {},
   "outputs": [
    {
     "ename": "TypeError",
     "evalue": "unsupported operand type(s) for +: 'int' and 'str'",
     "output_type": "error",
     "traceback": [
      "\u001b[0;31m---------------------------------------------------------------------------\u001b[0m",
      "\u001b[0;31mTypeError\u001b[0m                                 Traceback (most recent call last)",
      "Cell \u001b[0;32mIn[15], line 3\u001b[0m\n\u001b[1;32m      1\u001b[0m \u001b[39m# TypeError - erro de sintaxe\u001b[39;00m\n\u001b[0;32m----> 3\u001b[0m \u001b[39m8\u001b[39;49m \u001b[39m+\u001b[39;49m \u001b[39m'\u001b[39;49m\u001b[39ms\u001b[39;49m\u001b[39m'\u001b[39;49m\n",
      "\u001b[0;31mTypeError\u001b[0m: unsupported operand type(s) for +: 'int' and 'str'"
     ]
    }
   ],
   "source": [
    "# TypeError - erro de sintaxe\n",
    "\n",
    "8 + 's'"
   ]
  },
  {
   "cell_type": "code",
   "execution_count": null,
   "metadata": {},
   "outputs": [
    {
     "name": "stdout",
     "output_type": "stream",
     "text": [
      "Operação não permitida\n"
     ]
    }
   ],
   "source": [
    "# Utilizando try e except, Tratando erro de sintaxe\n",
    "\n",
    "try:\n",
    "    8 + 's'\n",
    "except TypeError:\n",
    "    print('Operação não permitida')"
   ]
  },
  {
   "attachments": {},
   "cell_type": "markdown",
   "metadata": {},
   "source": [
    "### Try, Except e Else"
   ]
  },
  {
   "cell_type": "code",
   "execution_count": 16,
   "metadata": {},
   "outputs": [
    {
     "name": "stdout",
     "output_type": "stream",
     "text": [
      "Erro: arquivo não encontrado ou não pode ser salvo.\n"
     ]
    }
   ],
   "source": [
    "# Utilizando try, except e else tratando erro de arquivos inexistente\n",
    "\n",
    "try:\n",
    "    arquivo = open('exemplo_de_um_arquivo.txt')\n",
    "    arquivo.write('Gravando no arquivo')\n",
    "except IOError:\n",
    "    print(\"Erro: arquivo não encontrado ou não pode ser salvo.\")\n",
    "else:\n",
    "    print('Conteúdo salvado com sucesso!')\n",
    "    arquivo.close()"
   ]
  },
  {
   "cell_type": "code",
   "execution_count": null,
   "metadata": {},
   "outputs": [
    {
     "name": "stdout",
     "output_type": "stream",
     "text": [
      "Erro: arquivo não encontrado ou não pode ser lido.\n"
     ]
    }
   ],
   "source": [
    "# Tratando erro de extensão de arquivo\n",
    "\n",
    "try:\n",
    "    arquivo = open('arquivo_exemplo', 'r')\n",
    "except IOError:\n",
    "    print('Erro: arquivo não encontrado ou não pode ser lido.')\n",
    "else:\n",
    "    print('Conteúdo gravado com sucesso!')\n",
    "    arquivo.close()\n",
    "\n",
    "    "
   ]
  },
  {
   "attachments": {},
   "cell_type": "markdown",
   "metadata": {},
   "source": [
    "### Try, Except, Else e Finally"
   ]
  },
  {
   "cell_type": "code",
   "execution_count": null,
   "metadata": {},
   "outputs": [
    {
     "name": "stdout",
     "output_type": "stream",
     "text": [
      "Conteúdo gravado!\n",
      "Comandos no bloco finally são sempre executados!\n"
     ]
    }
   ],
   "source": [
    "try:\n",
    "    arquivo = open('exemplo_de_um_arquivo.txt', 'w')\n",
    "    arquivo.write('Gravando no arquivo')\n",
    "except IOError:\n",
    "    print('Erro: arquivo não encontrado ou não pode ser salvo.')\n",
    "else:\n",
    "    print('Conteúdo gravado!')\n",
    "    arquivo.close()\n",
    "finally:\n",
    "    print(\"Comandos no bloco finally são sempre executados!\")"
   ]
  },
  {
   "attachments": {},
   "cell_type": "markdown",
   "metadata": {},
   "source": [
    "Cada possibilidade de erro deve ser tratada no seu programa."
   ]
  },
  {
   "cell_type": "code",
   "execution_count": 2,
   "metadata": {},
   "outputs": [],
   "source": [
    "def digite():\n",
    "    try:\n",
    "        num = int((input(\"Digite um número: \")))\n",
    "    except:\n",
    "        print('Você não digitou um número!')\n",
    "    finally:\n",
    "        print('Obrigado!')"
   ]
  },
  {
   "cell_type": "code",
   "execution_count": 7,
   "metadata": {},
   "outputs": [
    {
     "name": "stdout",
     "output_type": "stream",
     "text": [
      "Você não digitou um número!\n",
      "Obrigado!\n"
     ]
    }
   ],
   "source": [
    "digite()"
   ]
  },
  {
   "cell_type": "code",
   "execution_count": 10,
   "metadata": {},
   "outputs": [],
   "source": [
    "# Impedindo que o cliente siga tentando quebrar o programa.\n",
    "\n",
    "def digite():\n",
    "    while True:\n",
    "        try:\n",
    "            num = int((input(\"Digite um número: \")))\n",
    "        except:\n",
    "            print('Você não digitou um número!')\n",
    "            continue\n",
    "        else:\n",
    "            print('Obrigado por digitar um número!')\n",
    "            break\n",
    "        finally:\n",
    "            print('Obrigado!')\n",
    "    print(num)"
   ]
  },
  {
   "cell_type": "code",
   "execution_count": 11,
   "metadata": {},
   "outputs": [
    {
     "name": "stdout",
     "output_type": "stream",
     "text": [
      "Obrigado por digitar um número!\n",
      "Obrigado!\n",
      "5\n"
     ]
    }
   ],
   "source": [
    "digite()"
   ]
  }
 ],
 "metadata": {
  "kernelspec": {
   "display_name": "venv_exemplos_python",
   "language": "python",
   "name": "python3"
  },
  "language_info": {
   "codemirror_mode": {
    "name": "ipython",
    "version": 3
   },
   "file_extension": ".py",
   "mimetype": "text/x-python",
   "name": "python",
   "nbconvert_exporter": "python",
   "pygments_lexer": "ipython3",
   "version": "3.8.10"
  },
  "orig_nbformat": 4
 },
 "nbformat": 4,
 "nbformat_minor": 2
}
