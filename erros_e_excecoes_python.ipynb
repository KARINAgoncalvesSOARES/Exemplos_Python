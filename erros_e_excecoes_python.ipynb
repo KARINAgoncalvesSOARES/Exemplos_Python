{
 "cells": [
  {
   "attachments": {},
   "cell_type": "markdown",
   "metadata": {},
   "source": [
    "Link de estudo:\n",
    "\n",
    "* [Erros e Exceções](https://www.datascienceacademy.com.br/path-player?courseid=fundamentos-de-linguagem-python-para-analise-de-dados-e-data-science&unit=63e09207aa56f5033006b4ecUnit)"
   ]
  },
  {
   "attachments": {},
   "cell_type": "markdown",
   "metadata": {},
   "source": [
    "### Try e Except"
   ]
  },
  {
   "cell_type": "code",
   "execution_count": 1,
   "metadata": {},
   "outputs": [
    {
     "ename": "TypeError",
     "evalue": "unsupported operand type(s) for +: 'int' and 'str'",
     "output_type": "error",
     "traceback": [
      "\u001b[0;31m---------------------------------------------------------------------------\u001b[0m",
      "\u001b[0;31mTypeError\u001b[0m                                 Traceback (most recent call last)",
      "Cell \u001b[0;32mIn[1], line 1\u001b[0m\n\u001b[0;32m----> 1\u001b[0m \u001b[39m8\u001b[39;49m \u001b[39m+\u001b[39;49m \u001b[39m'\u001b[39;49m\u001b[39ms\u001b[39;49m\u001b[39m'\u001b[39;49m\n",
      "\u001b[0;31mTypeError\u001b[0m: unsupported operand type(s) for +: 'int' and 'str'"
     ]
    }
   ],
   "source": [
    "8 + 's'"
   ]
  },
  {
   "cell_type": "code",
   "execution_count": 2,
   "metadata": {},
   "outputs": [
    {
     "name": "stdout",
     "output_type": "stream",
     "text": [
      "Operação não permitida\n"
     ]
    }
   ],
   "source": [
    "# Utilizando try e except, Tratando erro de sintaxe\n",
    "\n",
    "try:\n",
    "    8 + 's'\n",
    "except TypeError:\n",
    "    print('Operação não permitida')"
   ]
  },
  {
   "attachments": {},
   "cell_type": "markdown",
   "metadata": {},
   "source": [
    "### Try, Except e Else"
   ]
  },
  {
   "cell_type": "code",
   "execution_count": 4,
   "metadata": {},
   "outputs": [
    {
     "name": "stdout",
     "output_type": "stream",
     "text": [
      "Erro: arquivo não encontrado ou não pode ser salvo.\n"
     ]
    }
   ],
   "source": [
    "# Utilizando try, except e else tratando erro de arquivos inexistente\n",
    "\n",
    "try:\n",
    "    arquivo = open('exemplo_de_um_arquivo.txt')\n",
    "    arquivo.write('Gravando no arquivo')\n",
    "except IOError:\n",
    "    print(\"Erro: arquivo não encontrado ou não pode ser salvo.\")\n",
    "else:\n",
    "    print('Conteúdo salvado com sucesso!')\n",
    "    arquivo.close()"
   ]
  },
  {
   "cell_type": "code",
   "execution_count": 5,
   "metadata": {},
   "outputs": [
    {
     "name": "stdout",
     "output_type": "stream",
     "text": [
      "Erro: arquivo não encontrado ou não pode ser lido.\n"
     ]
    }
   ],
   "source": [
    "# Tratando erro de extensão de arquivo\n",
    "\n",
    "try:\n",
    "    arquivo = open('arquivo_exemplo', 'r')\n",
    "except IOError:\n",
    "    print('Erro: arquivo não encontrado ou não pode ser lido.')\n",
    "else:\n",
    "    print('Conteúdo gravado com sucesso!')\n",
    "    arquivo.close()\n",
    "\n",
    "    "
   ]
  },
  {
   "attachments": {},
   "cell_type": "markdown",
   "metadata": {},
   "source": [
    "### Try, Except, Else e Finally"
   ]
  },
  {
   "cell_type": "code",
   "execution_count": null,
   "metadata": {},
   "outputs": [],
   "source": []
  },
  {
   "cell_type": "markdown",
   "metadata": {},
   "source": []
  }
 ],
 "metadata": {
  "kernelspec": {
   "display_name": "venv_exemplos_python",
   "language": "python",
   "name": "python3"
  },
  "language_info": {
   "codemirror_mode": {
    "name": "ipython",
    "version": 3
   },
   "file_extension": ".py",
   "mimetype": "text/x-python",
   "name": "python",
   "nbconvert_exporter": "python",
   "pygments_lexer": "ipython3",
   "version": "3.8.10"
  },
  "orig_nbformat": 4
 },
 "nbformat": 4,
 "nbformat_minor": 2
}
