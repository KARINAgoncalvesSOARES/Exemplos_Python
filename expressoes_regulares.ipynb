{
 "cells": [
  {
   "attachments": {},
   "cell_type": "markdown",
   "metadata": {},
   "source": [
    "<h1 align='center'>Expressões Regulares (REGEX)</h1>"
   ]
  },
  {
   "attachments": {},
   "cell_type": "markdown",
   "metadata": {},
   "source": [
    "Data Scientist Jr.: Karina Gonçalves Soares"
   ]
  },
  {
   "attachments": {},
   "cell_type": "markdown",
   "metadata": {},
   "source": [
    "Links de estudo:\n",
    "\n",
    "* [Expressões Regulares 1/2](https://www.datascienceacademy.com.br/path-player?courseid=fundamentos-de-linguagem-python-para-analise-de-dados-e-data-science&unit=63e09437b1fe39e8ec01a5bcUnit)\n",
    "\n",
    "* [Expressões Regulares 2/2 ](https://www.datascienceacademy.com.br/path-player?courseid=fundamentos-de-linguagem-python-para-analise-de-dados-e-data-science&unit=63e1978143fce40694062613Unit)\n",
    "\n",
    "* [Usando ChatGPT para filtrar caracteres e palvras em um texto usando REGEX](https://www.datascienceacademy.com.br/path-player?courseid=fundamentos-de-linguagem-python-para-analise-de-dados-e-data-science&unit=63e1978143fce40694062613Unit)"
   ]
  },
  {
   "attachments": {},
   "cell_type": "markdown",
   "metadata": {},
   "source": [
    "Expressões regulares, também conhecidas como regex (abreviação de regular expressions), são padrões utilizados para encontrar e manipular textos de maneira eficiente. Em Python, a biblioteca padrão \"re\" fornece suporte para trabalhar com expressões regulares.\n",
    "\n",
    "As expressões regulares são compostas por sequências de caracteres que definem um padrão de busca. Elas permitem que você procure por padrões específicos em uma string, como correspondências de palavras, números, caracteres especiais e muito mais.\n",
    "\n",
    "Aqui estão alguns conceitos básicos e exemplos de uso de expressões regulares em Python:\n",
    "\n"
   ]
  },
  {
   "attachments": {},
   "cell_type": "markdown",
   "metadata": {},
   "source": [
    "#### 1. Importar a biblioteca \"re\":\n",
    "\n",
    "Antes de usar expressões regulares em Python, você precisa importar a biblioteca \"re\". Você pode fazer isso com o seguinte comando:"
   ]
  },
  {
   "cell_type": "code",
   "execution_count": 1,
   "metadata": {},
   "outputs": [],
   "source": [
    "import re"
   ]
  },
  {
   "attachments": {},
   "cell_type": "markdown",
   "metadata": {},
   "source": [
    "#### 2. Pesquisar um padrão:\n",
    "\n",
    "A função search() é usada para procurar um padrão em uma string. Ela retorna um objeto de correspondência se o padrão for encontrado ou None caso contrário.\n"
   ]
  },
  {
   "cell_type": "code",
   "execution_count": 15,
   "metadata": {},
   "outputs": [
    {
     "name": "stdout",
     "output_type": "stream",
     "text": [
      "Padrão encontrado!\n"
     ]
    }
   ],
   "source": [
    "texto = 'Exemplo de uma string com um padrão de busca'\n",
    "padrao = r'padrão'\n",
    "\n",
    "correspondencia = re.search(padrao, texto)\n",
    "if correspondencia:\n",
    "    print(\"Padrão encontrado!\")\n",
    "\n",
    "else:\n",
    "    print(\"Padrão não encontrado.\")"
   ]
  },
  {
   "attachments": {},
   "cell_type": "markdown",
   "metadata": {},
   "source": [
    "#### 3. Encontrar todas as correspondências:\n",
    "\n",
    "A função findall() é usada para encontrar todas as ocorrências de um padrão em uma string. Ela retorna uma lista com todas as correspondências encontradas."
   ]
  },
  {
   "cell_type": "code",
   "execution_count": 14,
   "metadata": {},
   "outputs": [
    {
     "name": "stdout",
     "output_type": "stream",
     "text": [
      "['sabia', 'sabia']\n"
     ]
    }
   ],
   "source": [
    "# Exemplo de uma string com várias ocorrências de um padrão.\n",
    "texto = \"Sabia que o sabiá sabia assobiar?\".lower()\n",
    "padrao = r\"sabia\"\n",
    "\n",
    "correspondencias = re.findall(padrao, texto)\n",
    "print(correspondencias)"
   ]
  },
  {
   "attachments": {},
   "cell_type": "markdown",
   "metadata": {},
   "source": [
    "#### 4. Substituir correspondências:\n",
    "\n",
    "A função sub() é usada para substituir todas as correspondências de um padrão por um texto especificado."
   ]
  },
  {
   "cell_type": "code",
   "execution_count": 16,
   "metadata": {},
   "outputs": [
    {
     "name": "stdout",
     "output_type": "stream",
     "text": [
      "Exemplo de uma string com várias ocorrências de um substituição.\n"
     ]
    }
   ],
   "source": [
    "texto = \"Exemplo de uma string com várias ocorrências de um padrão.\"\n",
    "padrao = r\"padrão\"\n",
    "\n",
    "substituicao = \"substituição\"\n",
    "\n",
    "novo_texto = re.sub(padrao, substituicao, texto)\n",
    "print(novo_texto)"
   ]
  },
  {
   "attachments": {},
   "cell_type": "markdown",
   "metadata": {},
   "source": [
    "Esses são apenas alguns exemplos básicos de uso de expressões regulares em Python. As expressões regulares são uma ferramenta poderosa e flexível para manipulação de texto e podem ser usadas para realizar tarefas mais complexas, como validar formatos de email, números de telefone, extrair informações específicas de um texto, entre outras possibilidades."
   ]
  }
 ],
 "metadata": {
  "kernelspec": {
   "display_name": "venv_exemplos_python",
   "language": "python",
   "name": "python3"
  },
  "language_info": {
   "codemirror_mode": {
    "name": "ipython",
    "version": 3
   },
   "file_extension": ".py",
   "mimetype": "text/x-python",
   "name": "python",
   "nbconvert_exporter": "python",
   "pygments_lexer": "ipython3",
   "version": "3.8.10"
  },
  "orig_nbformat": 4
 },
 "nbformat": 4,
 "nbformat_minor": 2
}
