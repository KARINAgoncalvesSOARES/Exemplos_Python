{
 "cells": [
  {
   "cell_type": "markdown",
   "metadata": {},
   "source": []
  },
  {
   "attachments": {},
   "cell_type": "markdown",
   "metadata": {},
   "source": [
    "### map()\n",
    "\n",
    "A função ***map()*** em Python é uma função embutida que permite aplicar uma função a cada elemento de uma iterável(como uma lista, tupla ou conjunto) e retorna um objeto de map que contém os resultados.\n",
    "\n",
    "A sinntaxe geral da função ***map*** é a seguinte:\n",
    "\n",
    "map(`função`, `iterável`)\n",
    "\n",
    "Onde:\n",
    "\n",
    "* função: É a função que você deseja aplicar a cada elemento do iterável.\n",
    "* iterável: É o iterável (por exemplo, uma lista, tupla, conjunto) cujos elementos você deseja processar usando a função.\n",
    "\n",
    "A função map() itera sobre cada elemento do iterável e aplica a função fornecida a cada elemento, retornando um iterador que produz os resultados. Aqui está um exemplo simples que ilustra seu uso:"
   ]
  },
  {
   "cell_type": "code",
   "execution_count": 2,
   "metadata": {},
   "outputs": [
    {
     "name": "stdout",
     "output_type": "stream",
     "text": [
      "[2, 4, 6, 8, 10]\n"
     ]
    }
   ],
   "source": [
    "# Exemplo 1:\n",
    "\n",
    "def dobro(x):\n",
    "    return x * 2\n",
    "\n",
    "numeros = [1, 2, 3, 4, 5]\n",
    "dobro_numeros= map(dobro, numeros)\n",
    "\n",
    "print(list(dobro_numeros))"
   ]
  },
  {
   "attachments": {},
   "cell_type": "markdown",
   "metadata": {},
   "source": [
    "Neste exemplo, definimos uma função `dobro()` que recebe um número como entrada e retorna o dobro desse número. Em seguida, criamos uma lista de números e usamos a função `map()` para aplicar a função `dobro()` a cada elemento da lista. O resultado é um objeto `map` que produz os valores `[2, 4, 6, 8, 10]`. Usando a função list() para converter o objeto map em uma lista, podemos imprimir o resultado.\n",
    "\n",
    "`A função map() é especialmente útil quando você deseja aplicar uma operação a todos os elementos de uma coleção e coletar os resultados em uma nova lista`. Além disso, você pode fornecer várias sequências como argumentos para map(), desde que a função fornecida receba um número correspondente de argumentos."
   ]
  },
  {
   "cell_type": "code",
   "execution_count": 3,
   "metadata": {},
   "outputs": [
    {
     "name": "stdout",
     "output_type": "stream",
     "text": [
      "[5, 7, 9]\n"
     ]
    }
   ],
   "source": [
    "# Exemplo 2:\n",
    "\n",
    "def soma(a, b):\n",
    "    return a+b\n",
    "\n",
    "nums1 = [1,2,3]\n",
    "nums2 = [4,5,6]\n",
    "\n",
    "soma_nums = map(soma, nums1, nums2)\n",
    "print(list(soma_nums))"
   ]
  },
  {
   "attachments": {},
   "cell_type": "markdown",
   "metadata": {},
   "source": [
    "Neste exemplo, definimos a função `soma()` que recebe dois números como entrada e retorna a soma deles. Passamos duas listas (`nums1 e nums2`) como argumentos para `map()`, juntamente com a função `soma()`. O resultado é uma lista `[5, 7, 9]`, que é o resultado da soma elemento a elemento das duas listas.\n",
    "\n",
    "Em resumo, a função map() permite aplicar uma função a cada elemento de um iterável e obter os resultados em forma de um objeto map. É uma maneira útil e eficiente de processar e transformar dados em Python."
   ]
  },
  {
   "attachments": {
    "image.png": {
     "image/png": "[encoded data removed]"
    }
   },
   "cell_type": "markdown",
   "metadata": {},
   "source": [
    "### reduce()\n",
    "![image.png](attachment:image.png)\n",
    "\n",
    "\n",
    "A função ***reduce()*** do Python faz parte do módulo ***functools*** e é usada para realizar uma operação de redução em uma sequência de elementos. Ela aplica uma função cumulativa aos elementos sequencialmente, reduzindo-os a um único valor.\n",
    "\n",
    "A sintaxe geral da função reduce() é a seguinte:\n",
    "\n",
    "reduce(`função`, `sequência[, valor_inicial]`)\n",
    "\n",
    "Onde:\n",
    "\n",
    "* função: É a função cumulativa que será aplicada a cada par de elementos sequencialmente. Ela deve receber dois argumentos e retornar um resultado.\n",
    "* sequência: É a sequência de elementos que serão reduzidos.\n",
    "* valor_inicial (opcional): É um valor inicial que será usado como o primeiro argumento da função cumulativa. Se não for fornecido, o primeiro elemento da sequência será usado como o valor inicial.\n",
    "\n",
    "É importante mencionar que a função `reduce()` foi removida das funções embutidas no Python 3.x e movida para o módulo functools. Portanto, para usar a função reduce(), é necessário importar o módulo primeiro.\n",
    "\n",
    "Aqui está um exemplo simples para demonstrar o uso da função reduce():\n"
   ]
  },
  {
   "cell_type": "code",
   "execution_count": 4,
   "metadata": {},
   "outputs": [
    {
     "name": "stdout",
     "output_type": "stream",
     "text": [
      "15\n"
     ]
    }
   ],
   "source": [
    "from functools import reduce\n",
    "\n",
    "# Exemplo 1:\n",
    "def soma(x, y):\n",
    "    return x + y\n",
    "\n",
    "nums = [1, 2, 3, 4, 5]\n",
    "total = reduce(soma, nums)\n",
    "\n",
    "print(total)"
   ]
  },
  {
   "attachments": {},
   "cell_type": "markdown",
   "metadata": {},
   "source": [
    "Neste exemplo, definimos a função `soma()` que recebe dois números como entrada e retorna a soma deles. Em seguida, temos uma lista de números. Utilizamos a função `reduce()` para aplicar a função `soma()` a cada par de elementos sequencialmente, reduzindo-os a um único valor. O resultado é a soma de todos os elementos da lista, que é igual a 15.\n",
    "\n",
    "Além disso, a função reduce() também aceita um valor inicial opcional. Aqui está um exemplo que mostra como usá-lo:"
   ]
  },
  {
   "cell_type": "code",
   "execution_count": 5,
   "metadata": {},
   "outputs": [
    {
     "name": "stdout",
     "output_type": "stream",
     "text": [
      "240\n"
     ]
    }
   ],
   "source": [
    "# Exemplo 2:\n",
    "\n",
    "def multiplicacao(x, y): return x * y\n",
    "\n",
    "nums = [1, 2, 3, 4, 5]\n",
    "produto_total = reduce(multiplicacao, nums, 2)\n",
    "\n",
    "print(produto_total)"
   ]
  },
  {
   "attachments": {},
   "cell_type": "markdown",
   "metadata": {},
   "source": [
    "Neste exemplo, definimos a função multiplicacao() que recebe dois números como entrada e retorna o produto deles. Utilizamos a função reduce() com um valor inicial de 2. Isso significa que o primeiro argumento da função multiplicacao() será 2, e a redução começará com esse valor. O resultado é o produto de todos os elementos da lista multiplicado pelo valor inicial, que é igual a 240.\n",
    "\n",
    "Em resumo, a função `reduce() é usada para aplicar uma função cumulativa` a uma sequência de elementos, reduzindo-os a um único valor. Ela pode ser útil em situações em que você deseja realizar uma operação cumulativa em uma lista de elementos, como encontrar a soma, o produto, o máximo, o mínimo, entre outros.\n",
    "\n",
    "\n",
    "\n",
    "\n"
   ]
  },
  {
   "attachments": {},
   "cell_type": "markdown",
   "metadata": {},
   "source": [
    "### filter()\n",
    "\n",
    "A função ***filter()*** é uma função embutida do Python que permite filtrar elementos de um iterável (como uma lista, tupla ou conjunto) com base em uma função de filtro especificada. Ela retorna um objeto ***filter*** que contém apenas os elementos do iterável que satisfazem a condição especificada.\n",
    "\n",
    "A sintaxe geral da função filter() é a seguinte:\n",
    "\n",
    "filter(`função`, `iterável`)\n",
    "\n",
    "Onde:\n",
    "\n",
    "* função: É a função de filtro que será aplicada a cada elemento do iterável. Ela deve retornar um valor booleano (True ou False).\n",
    "* iterável: É o iterável (por exemplo, uma lista, tupla, conjunto) do qual você deseja filtrar os elementos.\n",
    "\n",
    "A função `filter()` itera sobre cada elemento do iterável e aplica a função de filtro a cada elemento. Os elementos para os quais a função de filtro retorna True são incluídos no objeto filter resultante. Aqui está um exemplo simples que ilustra seu uso:"
   ]
  },
  {
   "cell_type": "code",
   "execution_count": 6,
   "metadata": {},
   "outputs": [
    {
     "name": "stdout",
     "output_type": "stream",
     "text": [
      "[2, 4, 6]\n"
     ]
    }
   ],
   "source": [
    "# Exemplo 1:\n",
    "def par(x):\n",
    "    return x % 2 == 0\n",
    "\n",
    "nums = [1, 2, 3, 4, 5, 6]\n",
    "nums_pares = filter(par, nums)\n",
    "\n",
    "print(list(nums_pares))"
   ]
  },
  {
   "attachments": {},
   "cell_type": "markdown",
   "metadata": {},
   "source": [
    "Neste exemplo, definimos a função par() que verifica se um número é par. Em seguida, temos uma lista de números. Utilizamos a função filter() para aplicar a função par() a cada elemento da lista. O resultado é um objeto filter que contém apenas os números pares da lista [2, 4, 6]. Usando a função list() para converter o objeto filter em uma lista, podemos imprimir o resultado.\n",
    "\n",
    "Você também pode usar funções lambda em conjunto com filter() para criar filtros rápidos e concisos. Aqui está um exemplo que demonstra isso:"
   ]
  },
  {
   "cell_type": "code",
   "execution_count": 8,
   "metadata": {},
   "outputs": [
    {
     "name": "stdout",
     "output_type": "stream",
     "text": [
      "[1, 3, 5]\n"
     ]
    }
   ],
   "source": [
    "# Exemplo 2:\n",
    "nums = [1,2,3,4,5,]\n",
    "nums_impares = filter(lambda x: x % 2 != 0, nums)\n",
    "\n",
    "print(list(nums_impares))  "
   ]
  },
  {
   "attachments": {},
   "cell_type": "markdown",
   "metadata": {},
   "source": [
    "Neste exemplo, usamos uma função lambda para verificar se um número é ímpar (ou seja, se o resto da divisão por 2 é diferente de zero). Em seguida, aplicamos a função filter() com a função lambda aos números da lista. O resultado é um objeto filter que contém apenas os números ímpares [1, 3, 5].\n",
    "\n",
    "`A função filter() é útil quando você deseja extrair elementos de uma sequência com base em uma determinada condição. Ela permite criar de forma eficiente uma nova sequência contendo apenas os elementos desejados.`"
   ]
  },
  {
   "attachments": {},
   "cell_type": "markdown",
   "metadata": {},
   "source": [
    "### zip()\n",
    "\n",
    "A função zip() é uma função embutida do Python que combina elementos de iteráveis diferentes em uma sequência de tuplas. Ela retorna um objeto zip que pode ser usado para iterar simultaneamente sobre os elementos correspondentes dos iteráveis fornecidos.\n",
    "\n",
    "A sintaxe geral da função zip() é a seguinte:\n",
    "\n",
    "zip(iterável1, iterável2, ...)\n"
   ]
  }
 ],
 "metadata": {
  "kernelspec": {
   "display_name": "venv_exemplos_python",
   "language": "python",
   "name": "python3"
  },
  "language_info": {
   "codemirror_mode": {
    "name": "ipython",
    "version": 3
   },
   "file_extension": ".py",
   "mimetype": "text/x-python",
   "name": "python",
   "nbconvert_exporter": "python",
   "pygments_lexer": "ipython3",
   "version": "3.8.10"
  },
  "orig_nbformat": 4
 },
 "nbformat": 4,
 "nbformat_minor": 2
}
